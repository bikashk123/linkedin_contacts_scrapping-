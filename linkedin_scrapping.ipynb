{
 "cells": [
  {
   "cell_type": "code",
   "execution_count": null,
   "metadata": {},
   "outputs": [],
   "source": [
    "!pip install requests\n",
    "!pip install html5lib\n",
    "!pip install bs4"
   ]
  },
  {
   "cell_type": "code",
   "execution_count": null,
   "metadata": {
    "scrolled": true
   },
   "outputs": [],
   "source": [
    "!pip install selenium"
   ]
  },
  {
   "cell_type": "code",
   "execution_count": 1,
   "metadata": {},
   "outputs": [],
   "source": [
    "from bs4 import BeautifulSoup\n",
    "from urllib.parse import urlparse\n",
    "from selenium import webdriver"
   ]
  },
  {
   "cell_type": "code",
   "execution_count": 2,
   "metadata": {},
   "outputs": [],
   "source": [
    "browser=webdriver.Chrome('C:/Users/bikash/Documents/Assignment/chromedriver.exe') "
   ]
  },
  {
   "cell_type": "code",
   "execution_count": 3,
   "metadata": {},
   "outputs": [],
   "source": [
    "browser.get('https://www.linkedin.com/login/')"
   ]
  },
  {
   "cell_type": "code",
   "execution_count": 4,
   "metadata": {},
   "outputs": [
    {
     "name": "stdout",
     "output_type": "stream",
     "text": [
      "bikashkumar12321@gmail.com\n"
     ]
    }
   ],
   "source": [
    "personid=browser.find_element_by_id('username')\n",
    "personid.send_keys(input())"
   ]
  },
  {
   "cell_type": "code",
   "execution_count": 5,
   "metadata": {
    "collapsed": true
   },
   "outputs": [
    {
     "name": "stdout",
     "output_type": "stream",
     "text": [
      "Ucetvbu@14\n"
     ]
    }
   ],
   "source": [
    "personid=browser.find_element_by_id('password')\n",
    "personid.send_keys(input())"
   ]
  },
  {
   "cell_type": "code",
   "execution_count": 6,
   "metadata": {},
   "outputs": [],
   "source": [
    "personid.submit()"
   ]
  },
  {
   "cell_type": "code",
   "execution_count": 7,
   "metadata": {},
   "outputs": [],
   "source": [
    "profileid='/in/bikashkumar12321/'\n",
    "profilelink='https://www.linkedin.com/'+profileid"
   ]
  },
  {
   "cell_type": "code",
   "execution_count": 8,
   "metadata": {},
   "outputs": [],
   "source": [
    "def parse(getlink):\n",
    "    browser.get(getlink)\n",
    "    soup=BeautifulSoup(browser.page_source)\n",
    "    return soup"
   ]
  },
  {
   "cell_type": "code",
   "execution_count": 9,
   "metadata": {},
   "outputs": [
    {
     "data": {
      "text/plain": [
       "<title>Bikash Kumar | LinkedIn</title>"
      ]
     },
     "execution_count": 9,
     "metadata": {},
     "output_type": "execute_result"
    }
   ],
   "source": [
    "parse(profilelink).title"
   ]
  },
  {
   "cell_type": "code",
   "execution_count": 10,
   "metadata": {},
   "outputs": [],
   "source": [
    "#check connection reference \n",
    "import re\n",
    "a_tag=parse(profilelink).find_all('a')\n",
    "for tag in a_tag:\n",
    "    pattern=re.compile(\"\\/search\")\n",
    "    if pattern.match(tag['href']):\n",
    "        href=tag['href']"
   ]
  },
  {
   "cell_type": "code",
   "execution_count": 11,
   "metadata": {},
   "outputs": [],
   "source": [
    "connectionlink='https://www.linkedin.com'+ href"
   ]
  },
  {
   "cell_type": "code",
   "execution_count": 12,
   "metadata": {},
   "outputs": [
    {
     "data": {
      "text/plain": [
       "'https://www.linkedin.com/search/results/people/?facetNetwork=%5B%22F%22%5D&origin=MEMBER_PROFILE_CANNED_SEARCH'"
      ]
     },
     "execution_count": 12,
     "metadata": {},
     "output_type": "execute_result"
    }
   ],
   "source": [
    "connectionlink"
   ]
  },
  {
   "cell_type": "code",
   "execution_count": 13,
   "metadata": {},
   "outputs": [],
   "source": [
    "soup=parse(connectionlink)"
   ]
  },
  {
   "cell_type": "code",
   "execution_count": 15,
   "metadata": {},
   "outputs": [],
   "source": [
    "profiles=[]"
   ]
  },
  {
   "cell_type": "code",
   "execution_count": 19,
   "metadata": {},
   "outputs": [],
   "source": [
    "# get connection profile link\n",
    "def getprofile_link(soup,profiles):\n",
    "    profileId=[]\n",
    "    li=soup.find('ul',{'class':'reusable-search__entity-results-list list-style-none'})\n",
    "    link=soup.find_all('li',{'class':'reusable-search__result-container'})\n",
    "    for i in link:\n",
    "        con=i.find('div',{'class':'display-flex align-items-center'})\n",
    "        links=con.find_all('a',{'class':'app-aware-link'})\n",
    "        for j in links:\n",
    "            userid=j.get('href')\n",
    "            if (userid not in profileId):\n",
    "                profileId.append(userid)\n",
    "    return profileId       "
   ]
  },
  {
   "cell_type": "code",
   "execution_count": 35,
   "metadata": {},
   "outputs": [
    {
     "data": {
      "text/plain": [
       "['https://www.linkedin.com/in/ashu1461',\n",
       " 'https://www.linkedin.com/in/sampurna-kundu-0a881681',\n",
       " 'https://www.linkedin.com/in/krishnan-s-02953b152',\n",
       " 'https://www.linkedin.com/in/yasaswini-tiramdas-20727a18a',\n",
       " 'https://www.linkedin.com/in/hibban-mansoor-944721186',\n",
       " 'https://www.linkedin.com/in/deepa-maheshwaram-678026161',\n",
       " 'https://www.linkedin.com/in/sanjay-k-shaji',\n",
       " 'https://www.linkedin.com/in/arvindsasikumar96',\n",
       " 'https://www.linkedin.com/in/suvarnaputhiyoppil',\n",
       " 'https://www.linkedin.com/in/abhishekbodapati']"
      ]
     },
     "execution_count": 35,
     "metadata": {},
     "output_type": "execute_result"
    }
   ],
   "source": [
    "getprofile_link(soup,profiles)"
   ]
  },
  {
   "cell_type": "code",
   "execution_count": 24,
   "metadata": {},
   "outputs": [
    {
     "data": {
      "text/plain": [
       "<title>Search | LinkedIn</title>"
      ]
     },
     "execution_count": 24,
     "metadata": {},
     "output_type": "execute_result"
    }
   ],
   "source": [
    "soup.title"
   ]
  },
  {
   "cell_type": "code",
   "execution_count": 34,
   "metadata": {},
   "outputs": [],
   "source": [
    "soup.find('li',{'class':'artdeco-pagination__indicator artdeco-pagination__indicator--number active selected ember-view'})"
   ]
  },
  {
   "cell_type": "code",
   "execution_count": null,
   "metadata": {},
   "outputs": [],
   "source": []
  },
  {
   "cell_type": "code",
   "execution_count": null,
   "metadata": {},
   "outputs": [],
   "source": []
  },
  {
   "cell_type": "code",
   "execution_count": null,
   "metadata": {},
   "outputs": [],
   "source": [
    "\n",
    "               "
   ]
  },
  {
   "cell_type": "code",
   "execution_count": null,
   "metadata": {},
   "outputs": [],
   "source": []
  },
  {
   "cell_type": "code",
   "execution_count": null,
   "metadata": {},
   "outputs": [],
   "source": []
  }
 ],
 "metadata": {
  "kernelspec": {
   "display_name": "Python 3",
   "language": "python",
   "name": "python3"
  },
  "language_info": {
   "codemirror_mode": {
    "name": "ipython",
    "version": 3
   },
   "file_extension": ".py",
   "mimetype": "text/x-python",
   "name": "python",
   "nbconvert_exporter": "python",
   "pygments_lexer": "ipython3",
   "version": "3.8.3"
  }
 },
 "nbformat": 4,
 "nbformat_minor": 4
}
